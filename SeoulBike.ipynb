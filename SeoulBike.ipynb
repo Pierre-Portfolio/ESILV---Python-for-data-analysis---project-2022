{
 "cells": [
  {
   "cell_type": "markdown",
   "id": "d1293c5a",
   "metadata": {},
   "source": [
    "# ESILV - Python for data analysis - project 2022"
   ]
  },
  {
   "cell_type": "markdown",
   "id": "1a36974f",
   "metadata": {},
   "source": [
    "## 1) All Import of project"
   ]
  },
  {
   "cell_type": "code",
   "execution_count": 44,
   "id": "33b329fc",
   "metadata": {},
   "outputs": [
    {
     "name": "stdout",
     "output_type": "stream",
     "text": [
      "Requirement already satisfied: xgboost in c:\\users\\petil\\anaconda3\\lib\\site-packages (1.5.1)\n",
      "Requirement already satisfied: numpy in c:\\users\\petil\\anaconda3\\lib\\site-packages (from xgboost) (1.21.2)\n",
      "Requirement already satisfied: scipy in c:\\users\\petil\\anaconda3\\lib\\site-packages (from xgboost) (1.7.2)\n"
     ]
    },
    {
     "name": "stderr",
     "output_type": "stream",
     "text": [
      "'brew' n'est pas reconnu en tant que commande interne\n",
      "ou externe, un programme ex‚cutable ou un fichier de commandes.\n"
     ]
    }
   ],
   "source": [
    "#unavoidable import\n",
    "import pandas as pd\n",
    "import numpy as np\n",
    "from matplotlib import pyplot as plt\n",
    "%matplotlib inline\n",
    "\n",
    "#Import for part 3\n",
    "import seaborn as sns\n",
    "from sklearn.preprocessing import MinMaxScaler\n",
    "\n",
    "#Import for part 4\n",
    "\n",
    "#Import for part 5\n",
    "import time\n",
    "from decimal import *\n",
    "\n",
    "#Import for part 6\n",
    "from sklearn import datasets\n",
    "from sklearn.neighbors import KNeighborsClassifier\n",
    "from sklearn.linear_model import LinearRegression\n",
    "from sklearn.model_selection import train_test_split\n",
    "from sklearn.preprocessing import StandardScaler\n",
    "from sklearn import svm\n",
    "from sklearn.model_selection import cross_val_score\n",
    "from sklearn.model_selection import GridSearchCV\n",
    "from sklearn.linear_model import Lasso\n",
    "\n",
    "!pip install xgboost\n",
    "!brew install libomp\n",
    "from xgboost import XGBRegressor\n",
    "\n",
    "from sklearn.datasets import load_diabetes\n",
    "from sklearn.model_selection import train_test_split\n",
    "from sklearn.ensemble import ExtraTreesRegressor\n",
    "#Import for the part 7\n",
    "\n",
    "#Other import\n",
    "import warnings\n",
    "warnings.filterwarnings('ignore')"
   ]
  },
  {
   "cell_type": "code",
   "execution_count": 2,
   "id": "d5ca616e",
   "metadata": {
    "scrolled": true
   },
   "outputs": [
    {
     "data": {
      "text/html": [
       "<div>\n",
       "<style scoped>\n",
       "    .dataframe tbody tr th:only-of-type {\n",
       "        vertical-align: middle;\n",
       "    }\n",
       "\n",
       "    .dataframe tbody tr th {\n",
       "        vertical-align: top;\n",
       "    }\n",
       "\n",
       "    .dataframe thead th {\n",
       "        text-align: right;\n",
       "    }\n",
       "</style>\n",
       "<table border=\"1\" class=\"dataframe\">\n",
       "  <thead>\n",
       "    <tr style=\"text-align: right;\">\n",
       "      <th></th>\n",
       "      <th>Date</th>\n",
       "      <th>Rented Bike Count</th>\n",
       "      <th>Hour</th>\n",
       "      <th>Temperature(°C)</th>\n",
       "      <th>Humidity(%)</th>\n",
       "      <th>Wind speed (m/s)</th>\n",
       "      <th>Visibility (10m)</th>\n",
       "      <th>Dew point temperature(°C)</th>\n",
       "      <th>Solar Radiation (MJ/m2)</th>\n",
       "      <th>Rainfall(mm)</th>\n",
       "      <th>Snowfall (cm)</th>\n",
       "      <th>Seasons</th>\n",
       "      <th>Holiday</th>\n",
       "      <th>Functioning Day</th>\n",
       "    </tr>\n",
       "  </thead>\n",
       "  <tbody>\n",
       "    <tr>\n",
       "      <th>0</th>\n",
       "      <td>01/12/2017</td>\n",
       "      <td>254</td>\n",
       "      <td>0</td>\n",
       "      <td>-5.2</td>\n",
       "      <td>37</td>\n",
       "      <td>2.2</td>\n",
       "      <td>2000</td>\n",
       "      <td>-17.6</td>\n",
       "      <td>0.0</td>\n",
       "      <td>0.0</td>\n",
       "      <td>0.0</td>\n",
       "      <td>Winter</td>\n",
       "      <td>No Holiday</td>\n",
       "      <td>Yes</td>\n",
       "    </tr>\n",
       "    <tr>\n",
       "      <th>1</th>\n",
       "      <td>01/12/2017</td>\n",
       "      <td>204</td>\n",
       "      <td>1</td>\n",
       "      <td>-5.5</td>\n",
       "      <td>38</td>\n",
       "      <td>0.8</td>\n",
       "      <td>2000</td>\n",
       "      <td>-17.6</td>\n",
       "      <td>0.0</td>\n",
       "      <td>0.0</td>\n",
       "      <td>0.0</td>\n",
       "      <td>Winter</td>\n",
       "      <td>No Holiday</td>\n",
       "      <td>Yes</td>\n",
       "    </tr>\n",
       "    <tr>\n",
       "      <th>2</th>\n",
       "      <td>01/12/2017</td>\n",
       "      <td>173</td>\n",
       "      <td>2</td>\n",
       "      <td>-6.0</td>\n",
       "      <td>39</td>\n",
       "      <td>1.0</td>\n",
       "      <td>2000</td>\n",
       "      <td>-17.7</td>\n",
       "      <td>0.0</td>\n",
       "      <td>0.0</td>\n",
       "      <td>0.0</td>\n",
       "      <td>Winter</td>\n",
       "      <td>No Holiday</td>\n",
       "      <td>Yes</td>\n",
       "    </tr>\n",
       "    <tr>\n",
       "      <th>3</th>\n",
       "      <td>01/12/2017</td>\n",
       "      <td>107</td>\n",
       "      <td>3</td>\n",
       "      <td>-6.2</td>\n",
       "      <td>40</td>\n",
       "      <td>0.9</td>\n",
       "      <td>2000</td>\n",
       "      <td>-17.6</td>\n",
       "      <td>0.0</td>\n",
       "      <td>0.0</td>\n",
       "      <td>0.0</td>\n",
       "      <td>Winter</td>\n",
       "      <td>No Holiday</td>\n",
       "      <td>Yes</td>\n",
       "    </tr>\n",
       "    <tr>\n",
       "      <th>4</th>\n",
       "      <td>01/12/2017</td>\n",
       "      <td>78</td>\n",
       "      <td>4</td>\n",
       "      <td>-6.0</td>\n",
       "      <td>36</td>\n",
       "      <td>2.3</td>\n",
       "      <td>2000</td>\n",
       "      <td>-18.6</td>\n",
       "      <td>0.0</td>\n",
       "      <td>0.0</td>\n",
       "      <td>0.0</td>\n",
       "      <td>Winter</td>\n",
       "      <td>No Holiday</td>\n",
       "      <td>Yes</td>\n",
       "    </tr>\n",
       "  </tbody>\n",
       "</table>\n",
       "</div>"
      ],
      "text/plain": [
       "         Date  Rented Bike Count  Hour  Temperature(°C)  Humidity(%)  \\\n",
       "0  01/12/2017                254     0             -5.2           37   \n",
       "1  01/12/2017                204     1             -5.5           38   \n",
       "2  01/12/2017                173     2             -6.0           39   \n",
       "3  01/12/2017                107     3             -6.2           40   \n",
       "4  01/12/2017                 78     4             -6.0           36   \n",
       "\n",
       "   Wind speed (m/s)  Visibility (10m)  Dew point temperature(°C)  \\\n",
       "0               2.2              2000                      -17.6   \n",
       "1               0.8              2000                      -17.6   \n",
       "2               1.0              2000                      -17.7   \n",
       "3               0.9              2000                      -17.6   \n",
       "4               2.3              2000                      -18.6   \n",
       "\n",
       "   Solar Radiation (MJ/m2)  Rainfall(mm)  Snowfall (cm) Seasons     Holiday  \\\n",
       "0                      0.0           0.0            0.0  Winter  No Holiday   \n",
       "1                      0.0           0.0            0.0  Winter  No Holiday   \n",
       "2                      0.0           0.0            0.0  Winter  No Holiday   \n",
       "3                      0.0           0.0            0.0  Winter  No Holiday   \n",
       "4                      0.0           0.0            0.0  Winter  No Holiday   \n",
       "\n",
       "  Functioning Day  \n",
       "0             Yes  \n",
       "1             Yes  \n",
       "2             Yes  \n",
       "3             Yes  \n",
       "4             Yes  "
      ]
     },
     "execution_count": 2,
     "metadata": {},
     "output_type": "execute_result"
    }
   ],
   "source": [
    "#Charge the Dataset\n",
    "SeoulBikeDf = pd.read_csv(\"SeoulBikeData.csv\", encoding=\"latin1\")\n",
    "#We display it\n",
    "SeoulBikeDf.head()"
   ]
  },
  {
   "cell_type": "markdown",
   "id": "133d88f7",
   "metadata": {},
   "source": [
    "## 2) Quick Analyze"
   ]
  },
  {
   "cell_type": "markdown",
   "id": "15b52dfb",
   "metadata": {},
   "source": [
    " - Dataset : Currently Rental bikes are introduced in many urban cities for the enhancement of mobility comfort. It is important to make the rental bike available and accessible to the public at the right time as it lessens the waiting time. Eventually, providing the city with a stable supply of rental bikes becomes a major concern."
   ]
  },
  {
   "cell_type": "markdown",
   "id": "277c0995",
   "metadata": {},
   "source": [
    " - Target : The good renter number of bike by hours."
   ]
  },
  {
   "cell_type": "code",
   "execution_count": 3,
   "id": "ac6d3b55",
   "metadata": {},
   "outputs": [
    {
     "name": "stdout",
     "output_type": "stream",
     "text": [
      "Number of columns : 14\n",
      "Number of row : 8760\n"
     ]
    }
   ],
   "source": [
    "#Size of the dataset\n",
    "print('Number of columns : ' +  str(SeoulBikeDf.shape[1]))\n",
    "print('Number of row : ' + str(SeoulBikeDf.shape[0]))"
   ]
  },
  {
   "cell_type": "code",
   "execution_count": 4,
   "id": "9fbaebea",
   "metadata": {},
   "outputs": [
    {
     "data": {
      "text/plain": [
       "Date                          object\n",
       "Rented Bike Count              int64\n",
       "Hour                           int64\n",
       "Temperature(°C)              float64\n",
       "Humidity(%)                    int64\n",
       "Wind speed (m/s)             float64\n",
       "Visibility (10m)               int64\n",
       "Dew point temperature(°C)    float64\n",
       "Solar Radiation (MJ/m2)      float64\n",
       "Rainfall(mm)                 float64\n",
       "Snowfall (cm)                float64\n",
       "Seasons                       object\n",
       "Holiday                       object\n",
       "Functioning Day               object\n",
       "dtype: object"
      ]
     },
     "execution_count": 4,
     "metadata": {},
     "output_type": "execute_result"
    }
   ],
   "source": [
    "#Check type of columns\n",
    "SeoulBikeDf.dtypes"
   ]
  },
  {
   "cell_type": "code",
   "execution_count": 5,
   "id": "a9675e36",
   "metadata": {},
   "outputs": [
    {
     "data": {
      "text/plain": [
       "Date\n",
       "01/01/2018    24\n",
       "01/02/2018    24\n",
       "01/03/2018    24\n",
       "01/04/2018    24\n",
       "01/05/2018    24\n",
       "              ..\n",
       "31/05/2018    24\n",
       "31/07/2018    24\n",
       "31/08/2018    24\n",
       "31/10/2018    24\n",
       "31/12/2017    24\n",
       "Name: Rented Bike Count, Length: 365, dtype: int64"
      ]
     },
     "execution_count": 5,
     "metadata": {},
     "output_type": "execute_result"
    }
   ],
   "source": [
    "#Why 8760 row ?\n",
    "SeoulBikeDf.groupby(\"Date\")[\"Rented Bike Count\"].count()\n",
    "# We can confirm that we have exactly 1 years of dataset because : 24 * 365 = 8760"
   ]
  },
  {
   "cell_type": "markdown",
   "id": "3438150e",
   "metadata": {},
   "source": [
    "## 3) Clear the dataset"
   ]
  },
  {
   "cell_type": "code",
   "execution_count": 6,
   "id": "d32db05a",
   "metadata": {},
   "outputs": [
    {
     "name": "stdout",
     "output_type": "stream",
     "text": [
      "Missing values in the dataset ? -> False\n",
      "Improper values in the dataset ? -> False\n"
     ]
    }
   ],
   "source": [
    "#Check is Nan value in the dataframe\n",
    "print ('Missing values in the dataset ? -> ' + str(SeoulBikeDf.isnull().values.any()))\n",
    "print ('Improper values in the dataset ? -> ' + str(SeoulBikeDf.isna().values.any()))"
   ]
  },
  {
   "cell_type": "code",
   "execution_count": 7,
   "id": "11dcb681",
   "metadata": {},
   "outputs": [
    {
     "name": "stdout",
     "output_type": "stream",
     "text": [
      "Before transformation of Functioning Day : ['Yes' 'No']\n",
      "After transformation of Functioning Day : [1 0]\n",
      "\n",
      "Before transformation of Holiday : ['No Holiday' 'Holiday']\n",
      "After transformation of Holiday : [0 1]\n",
      "\n",
      "Before transformation of Seasons : ['Winter' 'Spring' 'Summer' 'Autumn']\n",
      "After transformation of Season : [0 1 2 3]\n",
      "\n"
     ]
    }
   ],
   "source": [
    "#Transformation quantitative variable to vector\n",
    "print('Before transformation of Functioning Day : ' + str(SeoulBikeDf['Functioning Day'].unique()))\n",
    "SeoulBikeDf['Functioning Day'] = SeoulBikeDf['Functioning Day'].replace(to_replace=['No', 'Yes'], value=[0, 1])\n",
    "print('After transformation of Functioning Day : ' + str(SeoulBikeDf['Functioning Day'].unique()) + \"\\n\")\n",
    "\n",
    "print('Before transformation of Holiday : ' + str(SeoulBikeDf['Holiday'].unique()))\n",
    "SeoulBikeDf['Holiday'] = SeoulBikeDf['Holiday'].replace(to_replace=['No Holiday', 'Holiday'], value=[0, 1])\n",
    "print('After transformation of Holiday : ' + str(SeoulBikeDf['Holiday'].unique()) + \"\\n\")\n",
    "\n",
    "print('Before transformation of Seasons : ' + str(SeoulBikeDf['Seasons'].unique()))\n",
    "SeoulBikeDf['Seasons'] = SeoulBikeDf['Seasons'].replace(to_replace=['Winter', 'Spring', 'Summer', 'Autumn'], value=[0, 1, 2, 3])\n",
    "print('After transformation of Season : ' + str(SeoulBikeDf['Seasons'].unique()) + \"\\n\")"
   ]
  },
  {
   "cell_type": "code",
   "execution_count": 8,
   "id": "ff8ae02e",
   "metadata": {},
   "outputs": [],
   "source": [
    "#We transfrom Date data into 4 new columns :  day, month, years and dayofweek\n",
    "SeoulBikeDf['years'] = pd.to_datetime(SeoulBikeDf['Date']).dt.year\n",
    "SeoulBikeDf['month'] = pd.to_datetime(SeoulBikeDf['Date']).dt.month\n",
    "SeoulBikeDf['day'] = pd.to_datetime(SeoulBikeDf['Date']).dt.day\n",
    "SeoulBikeDf['dayofweek'] = pd.to_datetime(SeoulBikeDf['Date']).dt.dayofweek\n",
    "\n",
    "#Monday starting at 0 so we add + 1 at all the colomn\n",
    "SeoulBikeDf['dayofweek'] += 1 "
   ]
  },
  {
   "cell_type": "code",
   "execution_count": 9,
   "id": "f4ace99b",
   "metadata": {},
   "outputs": [
    {
     "data": {
      "image/png": "[encoded data removed]",
      "text/plain": [
       "<Figure size 1440x1440 with 2 Axes>"
      ]
     },
     "metadata": {
      "needs_background": "light"
     },
     "output_type": "display_data"
    }
   ],
   "source": [
    "#Create Correlation Dataframe\n",
    "corr = SeoulBikeDf.corr()\n",
    "\n",
    "# Plot figsize and Generate Color Map\n",
    "fig, ax = plt.subplots(figsize=(20, 20))\n",
    "colormap = sns.diverging_palette(220, 10, as_cmap=True)\n",
    "\n",
    "#Generate Heat Map, allow annotations and place floats in map\n",
    "sns.heatmap(corr, cmap=\"Blues\", annot=True, fmt=\".2f\")\n",
    "\n",
    "#Apply xticks\n",
    "plt.xticks(range(len(corr.columns)), corr.columns);\n",
    "plt.yticks(range(len(corr.columns)), corr.columns)\n",
    "\n",
    "plt.show()"
   ]
  },
  {
   "cell_type": "code",
   "execution_count": 10,
   "id": "f9016d1c",
   "metadata": {},
   "outputs": [
    {
     "data": {
      "image/png": "[encoded data removed]",
      "text/plain": [
       "<Figure size 1440x1440 with 2 Axes>"
      ]
     },
     "metadata": {
      "needs_background": "light"
     },
     "output_type": "display_data"
    }
   ],
   "source": [
    "plt.figure(figsize=(20,20))\n",
    "heatmap = sns.heatmap(SeoulBikeDf.corr()[['Rented Bike Count']].sort_values(by='Rented Bike Count', ascending=False), vmin=-0.5, vmax=1, annot=True, cmap='Blues')\n",
    "heatmap.set_title('Correlatation of the features with Rented Bike Count', pad=16, fontdict={'family': 'serif','size': 16});"
   ]
  },
  {
   "cell_type": "code",
   "execution_count": 11,
   "id": "0c71c4f3",
   "metadata": {},
   "outputs": [
    {
     "data": {
      "text/html": [
       "<div>\n",
       "<style scoped>\n",
       "    .dataframe tbody tr th:only-of-type {\n",
       "        vertical-align: middle;\n",
       "    }\n",
       "\n",
       "    .dataframe tbody tr th {\n",
       "        vertical-align: top;\n",
       "    }\n",
       "\n",
       "    .dataframe thead th {\n",
       "        text-align: right;\n",
       "    }\n",
       "</style>\n",
       "<table border=\"1\" class=\"dataframe\">\n",
       "  <thead>\n",
       "    <tr style=\"text-align: right;\">\n",
       "      <th></th>\n",
       "      <th>Name</th>\n",
       "      <th>Min</th>\n",
       "      <th>Max</th>\n",
       "    </tr>\n",
       "  </thead>\n",
       "  <tbody>\n",
       "    <tr>\n",
       "      <th>0</th>\n",
       "      <td>Temperature(°C)</td>\n",
       "      <td>-17.8</td>\n",
       "      <td>39.4</td>\n",
       "    </tr>\n",
       "    <tr>\n",
       "      <th>1</th>\n",
       "      <td>Humidity(%)</td>\n",
       "      <td>0</td>\n",
       "      <td>98</td>\n",
       "    </tr>\n",
       "    <tr>\n",
       "      <th>2</th>\n",
       "      <td>Wind speed (m/s)</td>\n",
       "      <td>0.0</td>\n",
       "      <td>7.4</td>\n",
       "    </tr>\n",
       "    <tr>\n",
       "      <th>3</th>\n",
       "      <td>Visibility (10m)</td>\n",
       "      <td>27</td>\n",
       "      <td>2000</td>\n",
       "    </tr>\n",
       "    <tr>\n",
       "      <th>4</th>\n",
       "      <td>Dew point temperature(°C)</td>\n",
       "      <td>-30.6</td>\n",
       "      <td>27.2</td>\n",
       "    </tr>\n",
       "    <tr>\n",
       "      <th>5</th>\n",
       "      <td>Solar Radiation (MJ/m2)</td>\n",
       "      <td>0.0</td>\n",
       "      <td>3.52</td>\n",
       "    </tr>\n",
       "    <tr>\n",
       "      <th>6</th>\n",
       "      <td>Rainfall(mm)</td>\n",
       "      <td>0.0</td>\n",
       "      <td>35.0</td>\n",
       "    </tr>\n",
       "    <tr>\n",
       "      <th>7</th>\n",
       "      <td>Snowfall (cm)</td>\n",
       "      <td>0.0</td>\n",
       "      <td>8.8</td>\n",
       "    </tr>\n",
       "  </tbody>\n",
       "</table>\n",
       "</div>"
      ],
      "text/plain": [
       "                        Name    Min   Max\n",
       "0            Temperature(°C)  -17.8  39.4\n",
       "1                Humidity(%)      0    98\n",
       "2           Wind speed (m/s)    0.0   7.4\n",
       "3           Visibility (10m)     27  2000\n",
       "4  Dew point temperature(°C)  -30.6  27.2\n",
       "5    Solar Radiation (MJ/m2)    0.0  3.52\n",
       "6               Rainfall(mm)    0.0  35.0\n",
       "7              Snowfall (cm)    0.0   8.8"
      ]
     },
     "execution_count": 11,
     "metadata": {},
     "output_type": "execute_result"
    }
   ],
   "source": [
    "# Check min and max value for a potential scaling\n",
    "col1 = ['Temperature(°C)', 'Humidity(%)', 'Wind speed (m/s)', 'Visibility (10m)', 'Dew point temperature(°C)', 'Solar Radiation (MJ/m2)', 'Rainfall(mm)', 'Snowfall (cm)']\n",
    "col2 = [str(SeoulBikeDf['Temperature(°C)'].min()), str(SeoulBikeDf['Humidity(%)'].min()), str(SeoulBikeDf['Wind speed (m/s)'].min()), str(SeoulBikeDf['Visibility (10m)'].min()), str(SeoulBikeDf['Dew point temperature(°C)'].min()), str(SeoulBikeDf['Solar Radiation (MJ/m2)'].min()), str(SeoulBikeDf['Rainfall(mm)'].min()), str(SeoulBikeDf['Snowfall (cm)'].min())]\n",
    "col3 = [str(SeoulBikeDf['Temperature(°C)'].max()), str(SeoulBikeDf['Humidity(%)'].max()), str(SeoulBikeDf['Wind speed (m/s)'].max()), str(SeoulBikeDf['Visibility (10m)'].max()), str(SeoulBikeDf['Dew point temperature(°C)'].max()), str(SeoulBikeDf['Solar Radiation (MJ/m2)'].max()), str(SeoulBikeDf['Rainfall(mm)'].max()), str(SeoulBikeDf['Snowfall (cm)'].max())]\n",
    "SeoulBikeDfMinMax = pd.DataFrame({'Name': col1, 'Min': col2, 'Max': col3})\n",
    "SeoulBikeDfMinMax"
   ]
  },
  {
   "cell_type": "code",
   "execution_count": 12,
   "id": "24cd39bd",
   "metadata": {},
   "outputs": [],
   "source": [
    "# For make differents testing we create 5 datasets for testing different model \n",
    "\n",
    "# First dataset is with qualitative brut data and dayofweek which was create only for the visualization\n",
    "SeoulBikeDf1 = SeoulBikeDf.copy().drop(['Date', 'dayofweek'], axis = 1)\n",
    "\n",
    "# Second Dataset without date and the dew temperature\n",
    "SeoulBikeDf2 = SeoulBikeDf1.copy().drop(['Dew point temperature(°C)'], axis = 1)\n",
    "\n",
    "# Third Dataset without bad correlations columns\n",
    "SeoulBikeDf3 = SeoulBikeDf2.copy()\n",
    "SeoulBikeDf3 = SeoulBikeDf3.drop(['Humidity(%)', 'Rainfall(mm)', 'Snowfall (cm)', 'Holiday'], axis = 1)\n",
    "\n",
    "# Fourth is with a Visibility scaling\n",
    "SeoulBikeDf4 = SeoulBikeDf2.copy()\n",
    "SeoulBikeDf4_scaled = MinMaxScaler().fit_transform(SeoulBikeDf4.to_numpy())\n",
    "SeoulBikeDf4_scaled = pd.DataFrame(SeoulBikeDf4_scaled, columns=['Rented Bike Count','Hour','Temperature(°C)','Humidity(%)','Wind speed (m/s)','Visibility (10m)','Solar Radiation (MJ/m2)','Rainfall(mm)','Snowfall (cm)','Seasons','Holiday','Functioning Day','years','month','day'])\n",
    "SeoulBikeDf4['Visibility (10m)'] = SeoulBikeDf4_scaled['Visibility (10m)']\n",
    "\n",
    "#Last dataset have a new columns which define weather condition\n",
    "#To DO\n",
    "#Passer celui ci en 4 puis le 5 = scaling du 4"
   ]
  },
  {
   "cell_type": "markdown",
   "id": "94df3a4e",
   "metadata": {},
   "source": [
    "## 4) Data-visualization"
   ]
  },
  {
   "cell_type": "code",
   "execution_count": 13,
   "id": "a19a0ac3",
   "metadata": {},
   "outputs": [
    {
     "data": {
      "text/html": [
       "<div>\n",
       "<style scoped>\n",
       "    .dataframe tbody tr th:only-of-type {\n",
       "        vertical-align: middle;\n",
       "    }\n",
       "\n",
       "    .dataframe tbody tr th {\n",
       "        vertical-align: top;\n",
       "    }\n",
       "\n",
       "    .dataframe thead tr th {\n",
       "        text-align: left;\n",
       "    }\n",
       "\n",
       "    .dataframe thead tr:last-of-type th {\n",
       "        text-align: right;\n",
       "    }\n",
       "</style>\n",
       "<table border=\"1\" class=\"dataframe\">\n",
       "  <thead>\n",
       "    <tr>\n",
       "      <th></th>\n",
       "      <th>Rented Bike Count</th>\n",
       "      <th>Temperature(°C)</th>\n",
       "      <th>Humidity(%)</th>\n",
       "      <th>Wind speed (m/s)</th>\n",
       "      <th>Visibility (10m)</th>\n",
       "      <th>Dew point temperature(°C)</th>\n",
       "      <th>Solar Radiation (MJ/m2)</th>\n",
       "      <th>Rainfall(mm)</th>\n",
       "      <th>Snowfall (cm)</th>\n",
       "      <th>Seasons</th>\n",
       "      <th>Holiday</th>\n",
       "      <th>Functioning Day</th>\n",
       "      <th>month</th>\n",
       "    </tr>\n",
       "    <tr>\n",
       "      <th></th>\n",
       "      <th>sum</th>\n",
       "      <th>mean</th>\n",
       "      <th>mean</th>\n",
       "      <th>mean</th>\n",
       "      <th>mean</th>\n",
       "      <th>mean</th>\n",
       "      <th>mean</th>\n",
       "      <th>mean</th>\n",
       "      <th>mean</th>\n",
       "      <th>mean</th>\n",
       "      <th>mean</th>\n",
       "      <th>mean</th>\n",
       "      <th>mean</th>\n",
       "    </tr>\n",
       "    <tr>\n",
       "      <th>Date</th>\n",
       "      <th></th>\n",
       "      <th></th>\n",
       "      <th></th>\n",
       "      <th></th>\n",
       "      <th></th>\n",
       "      <th></th>\n",
       "      <th></th>\n",
       "      <th></th>\n",
       "      <th></th>\n",
       "      <th></th>\n",
       "      <th></th>\n",
       "      <th></th>\n",
       "      <th></th>\n",
       "    </tr>\n",
       "  </thead>\n",
       "  <tbody>\n",
       "    <tr>\n",
       "      <th>01/01/2018</th>\n",
       "      <td>4290</td>\n",
       "      <td>-1.283333</td>\n",
       "      <td>39.333333</td>\n",
       "      <td>1.454167</td>\n",
       "      <td>1894.833333</td>\n",
       "      <td>-13.866667</td>\n",
       "      <td>0.255833</td>\n",
       "      <td>0.000000</td>\n",
       "      <td>0.000000</td>\n",
       "      <td>0</td>\n",
       "      <td>1</td>\n",
       "      <td>1.0</td>\n",
       "      <td>1</td>\n",
       "    </tr>\n",
       "    <tr>\n",
       "      <th>01/02/2018</th>\n",
       "      <td>5377</td>\n",
       "      <td>-3.866667</td>\n",
       "      <td>44.000000</td>\n",
       "      <td>1.608333</td>\n",
       "      <td>1923.625000</td>\n",
       "      <td>-15.012500</td>\n",
       "      <td>0.337083</td>\n",
       "      <td>0.000000</td>\n",
       "      <td>0.904167</td>\n",
       "      <td>0</td>\n",
       "      <td>0</td>\n",
       "      <td>1.0</td>\n",
       "      <td>1</td>\n",
       "    </tr>\n",
       "    <tr>\n",
       "      <th>01/03/2018</th>\n",
       "      <td>5132</td>\n",
       "      <td>0.450000</td>\n",
       "      <td>64.208333</td>\n",
       "      <td>3.554167</td>\n",
       "      <td>1084.000000</td>\n",
       "      <td>-6.387500</td>\n",
       "      <td>0.747500</td>\n",
       "      <td>0.104167</td>\n",
       "      <td>0.000000</td>\n",
       "      <td>1</td>\n",
       "      <td>1</td>\n",
       "      <td>1.0</td>\n",
       "      <td>1</td>\n",
       "    </tr>\n",
       "    <tr>\n",
       "      <th>01/04/2018</th>\n",
       "      <td>17388</td>\n",
       "      <td>15.183333</td>\n",
       "      <td>68.916667</td>\n",
       "      <td>1.570833</td>\n",
       "      <td>831.833333</td>\n",
       "      <td>9.370833</td>\n",
       "      <td>0.302083</td>\n",
       "      <td>0.000000</td>\n",
       "      <td>0.000000</td>\n",
       "      <td>1</td>\n",
       "      <td>0</td>\n",
       "      <td>1.0</td>\n",
       "      <td>1</td>\n",
       "    </tr>\n",
       "    <tr>\n",
       "      <th>01/05/2018</th>\n",
       "      <td>26820</td>\n",
       "      <td>20.341667</td>\n",
       "      <td>72.791667</td>\n",
       "      <td>1.437500</td>\n",
       "      <td>456.458333</td>\n",
       "      <td>15.120833</td>\n",
       "      <td>0.517500</td>\n",
       "      <td>0.000000</td>\n",
       "      <td>0.000000</td>\n",
       "      <td>1</td>\n",
       "      <td>1</td>\n",
       "      <td>1.0</td>\n",
       "      <td>1</td>\n",
       "    </tr>\n",
       "  </tbody>\n",
       "</table>\n",
       "</div>"
      ],
      "text/plain": [
       "           Rented Bike Count Temperature(°C) Humidity(%) Wind speed (m/s)  \\\n",
       "                         sum            mean        mean             mean   \n",
       "Date                                                                        \n",
       "01/01/2018              4290       -1.283333   39.333333         1.454167   \n",
       "01/02/2018              5377       -3.866667   44.000000         1.608333   \n",
       "01/03/2018              5132        0.450000   64.208333         3.554167   \n",
       "01/04/2018             17388       15.183333   68.916667         1.570833   \n",
       "01/05/2018             26820       20.341667   72.791667         1.437500   \n",
       "\n",
       "           Visibility (10m) Dew point temperature(°C) Solar Radiation (MJ/m2)  \\\n",
       "                       mean                      mean                    mean   \n",
       "Date                                                                            \n",
       "01/01/2018      1894.833333                -13.866667                0.255833   \n",
       "01/02/2018      1923.625000                -15.012500                0.337083   \n",
       "01/03/2018      1084.000000                 -6.387500                0.747500   \n",
       "01/04/2018       831.833333                  9.370833                0.302083   \n",
       "01/05/2018       456.458333                 15.120833                0.517500   \n",
       "\n",
       "           Rainfall(mm) Snowfall (cm) Seasons Holiday Functioning Day month  \n",
       "                   mean          mean    mean    mean            mean  mean  \n",
       "Date                                                                         \n",
       "01/01/2018     0.000000      0.000000       0       1             1.0     1  \n",
       "01/02/2018     0.000000      0.904167       0       0             1.0     1  \n",
       "01/03/2018     0.104167      0.000000       1       1             1.0     1  \n",
       "01/04/2018     0.000000      0.000000       1       0             1.0     1  \n",
       "01/05/2018     0.000000      0.000000       1       1             1.0     1  "
      ]
     },
     "execution_count": 13,
     "metadata": {},
     "output_type": "execute_result"
    }
   ],
   "source": [
    "#We create sum dataframe for scattler plot\n",
    "dfDay = SeoulBikeDf.groupby('Date').agg({'Rented Bike Count': ['sum'], 'Temperature(°C)': ['mean'], 'Humidity(%)': ['mean'], 'Wind speed (m/s)': ['mean'], 'Visibility (10m)': ['mean'], 'Dew point temperature(°C)': ['mean'], 'Solar Radiation (MJ/m2)': ['mean'], 'Rainfall(mm)': ['mean'], 'Snowfall (cm)': ['mean'], 'Seasons': ['mean'], 'Holiday': ['mean'], 'Functioning Day': ['mean'],'month':['mean']})\n",
    "dfDay.head()"
   ]
  },
  {
   "cell_type": "code",
   "execution_count": 14,
   "id": "2dbb5855",
   "metadata": {
    "scrolled": true
   },
   "outputs": [
    {
     "data": {
      "text/html": [
       "<div>\n",
       "<style scoped>\n",
       "    .dataframe tbody tr th:only-of-type {\n",
       "        vertical-align: middle;\n",
       "    }\n",
       "\n",
       "    .dataframe tbody tr th {\n",
       "        vertical-align: top;\n",
       "    }\n",
       "\n",
       "    .dataframe thead tr th {\n",
       "        text-align: left;\n",
       "    }\n",
       "\n",
       "    .dataframe thead tr:last-of-type th {\n",
       "        text-align: right;\n",
       "    }\n",
       "</style>\n",
       "<table border=\"1\" class=\"dataframe\">\n",
       "  <thead>\n",
       "    <tr>\n",
       "      <th></th>\n",
       "      <th>Rented Bike Count</th>\n",
       "      <th>Temperature(°C)</th>\n",
       "      <th>Humidity(%)</th>\n",
       "      <th>Wind speed (m/s)</th>\n",
       "      <th>Visibility (10m)</th>\n",
       "      <th>Dew point temperature(°C)</th>\n",
       "      <th>Solar Radiation (MJ/m2)</th>\n",
       "      <th>Rainfall(mm)</th>\n",
       "      <th>Snowfall (cm)</th>\n",
       "      <th>Seasons</th>\n",
       "      <th>Holiday</th>\n",
       "      <th>Functioning Day</th>\n",
       "    </tr>\n",
       "    <tr>\n",
       "      <th></th>\n",
       "      <th>sum</th>\n",
       "      <th>mean</th>\n",
       "      <th>mean</th>\n",
       "      <th>mean</th>\n",
       "      <th>mean</th>\n",
       "      <th>mean</th>\n",
       "      <th>mean</th>\n",
       "      <th>mean</th>\n",
       "      <th>mean</th>\n",
       "      <th>mean</th>\n",
       "      <th>mean</th>\n",
       "      <th>mean</th>\n",
       "    </tr>\n",
       "    <tr>\n",
       "      <th>Hour</th>\n",
       "      <th></th>\n",
       "      <th></th>\n",
       "      <th></th>\n",
       "      <th></th>\n",
       "      <th></th>\n",
       "      <th></th>\n",
       "      <th></th>\n",
       "      <th></th>\n",
       "      <th></th>\n",
       "      <th></th>\n",
       "      <th></th>\n",
       "      <th></th>\n",
       "    </tr>\n",
       "  </thead>\n",
       "  <tbody>\n",
       "    <tr>\n",
       "      <th>0</th>\n",
       "      <td>197633</td>\n",
       "      <td>11.286301</td>\n",
       "      <td>64.997260</td>\n",
       "      <td>1.453699</td>\n",
       "      <td>1433.380822</td>\n",
       "      <td>4.543014</td>\n",
       "      <td>0.0</td>\n",
       "      <td>0.145205</td>\n",
       "      <td>0.061644</td>\n",
       "      <td>1.50411</td>\n",
       "      <td>0.049315</td>\n",
       "      <td>0.964384</td>\n",
       "    </tr>\n",
       "    <tr>\n",
       "      <th>1</th>\n",
       "      <td>155557</td>\n",
       "      <td>10.923288</td>\n",
       "      <td>66.128767</td>\n",
       "      <td>1.284110</td>\n",
       "      <td>1414.813699</td>\n",
       "      <td>4.470959</td>\n",
       "      <td>0.0</td>\n",
       "      <td>0.062192</td>\n",
       "      <td>0.073699</td>\n",
       "      <td>1.50411</td>\n",
       "      <td>0.049315</td>\n",
       "      <td>0.964384</td>\n",
       "    </tr>\n",
       "    <tr>\n",
       "      <th>2</th>\n",
       "      <td>110095</td>\n",
       "      <td>10.591507</td>\n",
       "      <td>67.306849</td>\n",
       "      <td>1.223836</td>\n",
       "      <td>1382.597260</td>\n",
       "      <td>4.438904</td>\n",
       "      <td>0.0</td>\n",
       "      <td>0.096986</td>\n",
       "      <td>0.076438</td>\n",
       "      <td>1.50411</td>\n",
       "      <td>0.049315</td>\n",
       "      <td>0.964384</td>\n",
       "    </tr>\n",
       "    <tr>\n",
       "      <th>3</th>\n",
       "      <td>74216</td>\n",
       "      <td>10.293699</td>\n",
       "      <td>68.136986</td>\n",
       "      <td>1.197534</td>\n",
       "      <td>1358.635616</td>\n",
       "      <td>4.402740</td>\n",
       "      <td>0.0</td>\n",
       "      <td>0.146849</td>\n",
       "      <td>0.076712</td>\n",
       "      <td>1.50411</td>\n",
       "      <td>0.049315</td>\n",
       "      <td>0.964384</td>\n",
       "    </tr>\n",
       "    <tr>\n",
       "      <th>4</th>\n",
       "      <td>48396</td>\n",
       "      <td>10.026301</td>\n",
       "      <td>68.731507</td>\n",
       "      <td>1.217260</td>\n",
       "      <td>1339.284932</td>\n",
       "      <td>4.308219</td>\n",
       "      <td>0.0</td>\n",
       "      <td>0.155616</td>\n",
       "      <td>0.076438</td>\n",
       "      <td>1.50411</td>\n",
       "      <td>0.049315</td>\n",
       "      <td>0.964384</td>\n",
       "    </tr>\n",
       "  </tbody>\n",
       "</table>\n",
       "</div>"
      ],
      "text/plain": [
       "     Rented Bike Count Temperature(°C) Humidity(%) Wind speed (m/s)  \\\n",
       "                   sum            mean        mean             mean   \n",
       "Hour                                                                  \n",
       "0               197633       11.286301   64.997260         1.453699   \n",
       "1               155557       10.923288   66.128767         1.284110   \n",
       "2               110095       10.591507   67.306849         1.223836   \n",
       "3                74216       10.293699   68.136986         1.197534   \n",
       "4                48396       10.026301   68.731507         1.217260   \n",
       "\n",
       "     Visibility (10m) Dew point temperature(°C) Solar Radiation (MJ/m2)  \\\n",
       "                 mean                      mean                    mean   \n",
       "Hour                                                                      \n",
       "0         1433.380822                  4.543014                     0.0   \n",
       "1         1414.813699                  4.470959                     0.0   \n",
       "2         1382.597260                  4.438904                     0.0   \n",
       "3         1358.635616                  4.402740                     0.0   \n",
       "4         1339.284932                  4.308219                     0.0   \n",
       "\n",
       "     Rainfall(mm) Snowfall (cm)  Seasons   Holiday Functioning Day  \n",
       "             mean          mean     mean      mean            mean  \n",
       "Hour                                                                \n",
       "0        0.145205      0.061644  1.50411  0.049315        0.964384  \n",
       "1        0.062192      0.073699  1.50411  0.049315        0.964384  \n",
       "2        0.096986      0.076438  1.50411  0.049315        0.964384  \n",
       "3        0.146849      0.076712  1.50411  0.049315        0.964384  \n",
       "4        0.155616      0.076438  1.50411  0.049315        0.964384  "
      ]
     },
     "execution_count": 14,
     "metadata": {},
     "output_type": "execute_result"
    }
   ],
   "source": [
    "#We create sum dataframe for scattler plot\n",
    "dfHour = SeoulBikeDf.groupby('Hour').agg({'Rented Bike Count': ['sum'], 'Temperature(°C)': ['mean'], 'Humidity(%)': ['mean'], 'Wind speed (m/s)': ['mean'], 'Visibility (10m)': ['mean'], 'Dew point temperature(°C)': ['mean'], 'Solar Radiation (MJ/m2)': ['mean'], 'Rainfall(mm)': ['mean'], 'Snowfall (cm)': ['mean'], 'Seasons': ['mean'], 'Holiday': ['mean'], 'Functioning Day': ['mean']})\n",
    "dfHour.head()"
   ]
  },
  {
   "cell_type": "code",
   "execution_count": 15,
   "id": "455be343",
   "metadata": {},
   "outputs": [
    {
     "data": {
      "text/html": [
       "<div>\n",
       "<style scoped>\n",
       "    .dataframe tbody tr th:only-of-type {\n",
       "        vertical-align: middle;\n",
       "    }\n",
       "\n",
       "    .dataframe tbody tr th {\n",
       "        vertical-align: top;\n",
       "    }\n",
       "\n",
       "    .dataframe thead tr th {\n",
       "        text-align: left;\n",
       "    }\n",
       "\n",
       "    .dataframe thead tr:last-of-type th {\n",
       "        text-align: right;\n",
       "    }\n",
       "</style>\n",
       "<table border=\"1\" class=\"dataframe\">\n",
       "  <thead>\n",
       "    <tr>\n",
       "      <th></th>\n",
       "      <th>Rented Bike Count</th>\n",
       "      <th>Temperature(°C)</th>\n",
       "      <th>Humidity(%)</th>\n",
       "      <th>Wind speed (m/s)</th>\n",
       "      <th>Visibility (10m)</th>\n",
       "      <th>Dew point temperature(°C)</th>\n",
       "      <th>Solar Radiation (MJ/m2)</th>\n",
       "      <th>Rainfall(mm)</th>\n",
       "      <th>Snowfall (cm)</th>\n",
       "      <th>Seasons</th>\n",
       "      <th>Holiday</th>\n",
       "      <th>Functioning Day</th>\n",
       "    </tr>\n",
       "    <tr>\n",
       "      <th></th>\n",
       "      <th>sum</th>\n",
       "      <th>mean</th>\n",
       "      <th>mean</th>\n",
       "      <th>mean</th>\n",
       "      <th>mean</th>\n",
       "      <th>mean</th>\n",
       "      <th>mean</th>\n",
       "      <th>mean</th>\n",
       "      <th>mean</th>\n",
       "      <th>mean</th>\n",
       "      <th>mean</th>\n",
       "      <th>mean</th>\n",
       "    </tr>\n",
       "    <tr>\n",
       "      <th>month</th>\n",
       "      <th></th>\n",
       "      <th></th>\n",
       "      <th></th>\n",
       "      <th></th>\n",
       "      <th></th>\n",
       "      <th></th>\n",
       "      <th></th>\n",
       "      <th></th>\n",
       "      <th></th>\n",
       "      <th></th>\n",
       "      <th></th>\n",
       "      <th></th>\n",
       "    </tr>\n",
       "  </thead>\n",
       "  <tbody>\n",
       "    <tr>\n",
       "      <th>1</th>\n",
       "      <td>287244</td>\n",
       "      <td>2.722849</td>\n",
       "      <td>52.931452</td>\n",
       "      <td>1.813038</td>\n",
       "      <td>1392.811828</td>\n",
       "      <td>-6.599059</td>\n",
       "      <td>0.355175</td>\n",
       "      <td>0.121371</td>\n",
       "      <td>0.250269</td>\n",
       "      <td>0.580645</td>\n",
       "      <td>0.096774</td>\n",
       "      <td>1.000000</td>\n",
       "    </tr>\n",
       "    <tr>\n",
       "      <th>2</th>\n",
       "      <td>264112</td>\n",
       "      <td>6.484375</td>\n",
       "      <td>51.785714</td>\n",
       "      <td>1.838393</td>\n",
       "      <td>1451.800595</td>\n",
       "      <td>-3.832143</td>\n",
       "      <td>0.510818</td>\n",
       "      <td>0.149702</td>\n",
       "      <td>0.066518</td>\n",
       "      <td>0.642857</td>\n",
       "      <td>0.107143</td>\n",
       "      <td>0.964286</td>\n",
       "    </tr>\n",
       "    <tr>\n",
       "      <th>3</th>\n",
       "      <td>455037</td>\n",
       "      <td>11.436694</td>\n",
       "      <td>59.829301</td>\n",
       "      <td>1.913844</td>\n",
       "      <td>1241.911290</td>\n",
       "      <td>3.104570</td>\n",
       "      <td>0.595403</td>\n",
       "      <td>0.094220</td>\n",
       "      <td>0.002957</td>\n",
       "      <td>1.193548</td>\n",
       "      <td>0.032258</td>\n",
       "      <td>0.967742</td>\n",
       "    </tr>\n",
       "    <tr>\n",
       "      <th>4</th>\n",
       "      <td>556219</td>\n",
       "      <td>13.711250</td>\n",
       "      <td>53.630556</td>\n",
       "      <td>1.852639</td>\n",
       "      <td>1440.533333</td>\n",
       "      <td>3.188889</td>\n",
       "      <td>0.733667</td>\n",
       "      <td>0.149583</td>\n",
       "      <td>0.000000</td>\n",
       "      <td>1.200000</td>\n",
       "      <td>0.000000</td>\n",
       "      <td>0.966667</td>\n",
       "    </tr>\n",
       "    <tr>\n",
       "      <th>5</th>\n",
       "      <td>665948</td>\n",
       "      <td>16.620296</td>\n",
       "      <td>60.740591</td>\n",
       "      <td>1.759409</td>\n",
       "      <td>1348.532258</td>\n",
       "      <td>8.294624</td>\n",
       "      <td>0.688911</td>\n",
       "      <td>0.290323</td>\n",
       "      <td>0.000000</td>\n",
       "      <td>1.193548</td>\n",
       "      <td>0.032258</td>\n",
       "      <td>1.000000</td>\n",
       "    </tr>\n",
       "    <tr>\n",
       "      <th>6</th>\n",
       "      <td>706728</td>\n",
       "      <td>18.998194</td>\n",
       "      <td>65.637500</td>\n",
       "      <td>1.694583</td>\n",
       "      <td>1196.531944</td>\n",
       "      <td>11.730000</td>\n",
       "      <td>0.677778</td>\n",
       "      <td>0.359444</td>\n",
       "      <td>0.011944</td>\n",
       "      <td>1.800000</td>\n",
       "      <td>0.033333</td>\n",
       "      <td>0.956944</td>\n",
       "    </tr>\n",
       "    <tr>\n",
       "      <th>7</th>\n",
       "      <td>691339</td>\n",
       "      <td>23.125403</td>\n",
       "      <td>60.586022</td>\n",
       "      <td>1.664919</td>\n",
       "      <td>1527.458333</td>\n",
       "      <td>14.497446</td>\n",
       "      <td>0.777325</td>\n",
       "      <td>0.015054</td>\n",
       "      <td>0.013978</td>\n",
       "      <td>1.806452</td>\n",
       "      <td>0.000000</td>\n",
       "      <td>1.000000</td>\n",
       "    </tr>\n",
       "    <tr>\n",
       "      <th>8</th>\n",
       "      <td>614190</td>\n",
       "      <td>21.259140</td>\n",
       "      <td>62.998656</td>\n",
       "      <td>1.677151</td>\n",
       "      <td>1658.043011</td>\n",
       "      <td>13.169892</td>\n",
       "      <td>0.605296</td>\n",
       "      <td>0.324597</td>\n",
       "      <td>0.006048</td>\n",
       "      <td>1.806452</td>\n",
       "      <td>0.032258</td>\n",
       "      <td>1.000000</td>\n",
       "    </tr>\n",
       "    <tr>\n",
       "      <th>9</th>\n",
       "      <td>499326</td>\n",
       "      <td>17.071806</td>\n",
       "      <td>60.772222</td>\n",
       "      <td>1.516944</td>\n",
       "      <td>1681.188889</td>\n",
       "      <td>8.774444</td>\n",
       "      <td>0.557903</td>\n",
       "      <td>0.086806</td>\n",
       "      <td>0.015000</td>\n",
       "      <td>2.400000</td>\n",
       "      <td>0.133333</td>\n",
       "      <td>0.800000</td>\n",
       "    </tr>\n",
       "    <tr>\n",
       "      <th>10</th>\n",
       "      <td>626988</td>\n",
       "      <td>12.107930</td>\n",
       "      <td>59.985215</td>\n",
       "      <td>1.658065</td>\n",
       "      <td>1517.185484</td>\n",
       "      <td>3.819892</td>\n",
       "      <td>0.541573</td>\n",
       "      <td>0.081183</td>\n",
       "      <td>0.057392</td>\n",
       "      <td>2.419355</td>\n",
       "      <td>0.000000</td>\n",
       "      <td>0.967742</td>\n",
       "    </tr>\n",
       "    <tr>\n",
       "      <th>11</th>\n",
       "      <td>493412</td>\n",
       "      <td>7.787222</td>\n",
       "      <td>53.708333</td>\n",
       "      <td>1.654306</td>\n",
       "      <td>1391.634722</td>\n",
       "      <td>-1.890833</td>\n",
       "      <td>0.438833</td>\n",
       "      <td>0.027222</td>\n",
       "      <td>0.170833</td>\n",
       "      <td>2.400000</td>\n",
       "      <td>0.000000</td>\n",
       "      <td>0.966667</td>\n",
       "    </tr>\n",
       "    <tr>\n",
       "      <th>12</th>\n",
       "      <td>311771</td>\n",
       "      <td>2.845430</td>\n",
       "      <td>55.513441</td>\n",
       "      <td>1.660753</td>\n",
       "      <td>1394.520161</td>\n",
       "      <td>-5.959409</td>\n",
       "      <td>0.345255</td>\n",
       "      <td>0.085753</td>\n",
       "      <td>0.301747</td>\n",
       "      <td>0.580645</td>\n",
       "      <td>0.129032</td>\n",
       "      <td>1.000000</td>\n",
       "    </tr>\n",
       "  </tbody>\n",
       "</table>\n",
       "</div>"
      ],
      "text/plain": [
       "      Rented Bike Count Temperature(°C) Humidity(%) Wind speed (m/s)  \\\n",
       "                    sum            mean        mean             mean   \n",
       "month                                                                  \n",
       "1                287244        2.722849   52.931452         1.813038   \n",
       "2                264112        6.484375   51.785714         1.838393   \n",
       "3                455037       11.436694   59.829301         1.913844   \n",
       "4                556219       13.711250   53.630556         1.852639   \n",
       "5                665948       16.620296   60.740591         1.759409   \n",
       "6                706728       18.998194   65.637500         1.694583   \n",
       "7                691339       23.125403   60.586022         1.664919   \n",
       "8                614190       21.259140   62.998656         1.677151   \n",
       "9                499326       17.071806   60.772222         1.516944   \n",
       "10               626988       12.107930   59.985215         1.658065   \n",
       "11               493412        7.787222   53.708333         1.654306   \n",
       "12               311771        2.845430   55.513441         1.660753   \n",
       "\n",
       "      Visibility (10m) Dew point temperature(°C) Solar Radiation (MJ/m2)  \\\n",
       "                  mean                      mean                    mean   \n",
       "month                                                                      \n",
       "1          1392.811828                 -6.599059                0.355175   \n",
       "2          1451.800595                 -3.832143                0.510818   \n",
       "3          1241.911290                  3.104570                0.595403   \n",
       "4          1440.533333                  3.188889                0.733667   \n",
       "5          1348.532258                  8.294624                0.688911   \n",
       "6          1196.531944                 11.730000                0.677778   \n",
       "7          1527.458333                 14.497446                0.777325   \n",
       "8          1658.043011                 13.169892                0.605296   \n",
       "9          1681.188889                  8.774444                0.557903   \n",
       "10         1517.185484                  3.819892                0.541573   \n",
       "11         1391.634722                 -1.890833                0.438833   \n",
       "12         1394.520161                 -5.959409                0.345255   \n",
       "\n",
       "      Rainfall(mm) Snowfall (cm)   Seasons   Holiday Functioning Day  \n",
       "              mean          mean      mean      mean            mean  \n",
       "month                                                                 \n",
       "1         0.121371      0.250269  0.580645  0.096774        1.000000  \n",
       "2         0.149702      0.066518  0.642857  0.107143        0.964286  \n",
       "3         0.094220      0.002957  1.193548  0.032258        0.967742  \n",
       "4         0.149583      0.000000  1.200000  0.000000        0.966667  \n",
       "5         0.290323      0.000000  1.193548  0.032258        1.000000  \n",
       "6         0.359444      0.011944  1.800000  0.033333        0.956944  \n",
       "7         0.015054      0.013978  1.806452  0.000000        1.000000  \n",
       "8         0.324597      0.006048  1.806452  0.032258        1.000000  \n",
       "9         0.086806      0.015000  2.400000  0.133333        0.800000  \n",
       "10        0.081183      0.057392  2.419355  0.000000        0.967742  \n",
       "11        0.027222      0.170833  2.400000  0.000000        0.966667  \n",
       "12        0.085753      0.301747  0.580645  0.129032        1.000000  "
      ]
     },
     "execution_count": 15,
     "metadata": {},
     "output_type": "execute_result"
    }
   ],
   "source": [
    "dfMonth = SeoulBikeDf.groupby('month').agg({'Rented Bike Count': ['sum'], 'Temperature(°C)': ['mean'], 'Humidity(%)': ['mean'], 'Wind speed (m/s)': ['mean'], 'Visibility (10m)': ['mean'], 'Dew point temperature(°C)': ['mean'], 'Solar Radiation (MJ/m2)': ['mean'], 'Rainfall(mm)': ['mean'], 'Snowfall (cm)': ['mean'], 'Seasons': ['mean'], 'Holiday': ['mean'], 'Functioning Day': ['mean']})\n",
    "dfMonth"
   ]
  },
  {
   "cell_type": "code",
   "execution_count": 16,
   "id": "5dfae3e1",
   "metadata": {},
   "outputs": [
    {
     "data": {
      "text/plain": [
       "<AxesSubplot:xlabel='Date'>"
      ]
     },
     "execution_count": 16,
     "metadata": {},
     "output_type": "execute_result"
    },
    {
     "data": {
      "image/png": "[encoded data removed]",
      "text/plain": [
       "<Figure size 432x288 with 1 Axes>"
      ]
     },
     "metadata": {
      "needs_background": "light"
     },
     "output_type": "display_data"
    }
   ],
   "source": [
    "dfDay.plot(y=\"Rented Bike Count\",linestyle=\"\",marker=\".\",markersize=1)"
   ]
  },
  {
   "cell_type": "markdown",
   "id": "8cf0f587",
   "metadata": {},
   "source": [
    "We can see that during winter there are less bykes that are used."
   ]
  },
  {
   "cell_type": "code",
   "execution_count": 17,
   "id": "116e793a",
   "metadata": {
    "scrolled": true
   },
   "outputs": [
    {
     "data": {
      "text/plain": [
       "<AxesSubplot:xlabel='Hour'>"
      ]
     },
     "execution_count": 17,
     "metadata": {},
     "output_type": "execute_result"
    },
    {
     "data": {
      "image/png": "[encoded data removed]",
      "text/plain": [
       "<Figure size 432x288 with 1 Axes>"
      ]
     },
     "metadata": {
      "needs_background": "light"
     },
     "output_type": "display_data"
    }
   ],
   "source": [
    "dfHour.plot(y=\"Rented Bike Count\",linestyle=\"\",marker=\"x\",markersize=5)"
   ]
  },
  {
   "cell_type": "code",
   "execution_count": 18,
   "id": "3614dc0d",
   "metadata": {},
   "outputs": [
    {
     "data": {
      "text/plain": [
       "<AxesSubplot:xlabel='month'>"
      ]
     },
     "execution_count": 18,
     "metadata": {},
     "output_type": "execute_result"
    },
    {
     "data": {
      "image/png": "[encoded data removed]",
      "text/plain": [
       "<Figure size 432x288 with 1 Axes>"
      ]
     },
     "metadata": {
      "needs_background": "light"
     },
     "output_type": "display_data"
    }
   ],
   "source": [
    "dfMonth.plot(y=\"Rented Bike Count\",linestyle=\"\",marker=\"x\",markersize=5)"
   ]
  },
  {
   "cell_type": "code",
   "execution_count": 19,
   "id": "130ee937",
   "metadata": {},
   "outputs": [
    {
     "data": {
      "text/plain": [
       "([<matplotlib.patches.Wedge at 0x1aaafd6f5b0>,\n",
       "  <matplotlib.patches.Wedge at 0x1aaafd6faf0>,\n",
       "  <matplotlib.patches.Wedge at 0x1aaafd6ffd0>,\n",
       "  <matplotlib.patches.Wedge at 0x1aaafd7e460>],\n",
       " [Text(1.0663566383192322, 0.2699694795944649, 'Winter'),\n",
       "  Text(0.2768789886503531, 1.0645834986716438, 'Spring'),\n",
       "  Text(-1.08641682842713, -0.17233245460544025, 'Summer'),\n",
       "  Text(0.6741840289026949, -0.8691811636089052, 'Autumn')])"
      ]
     },
     "execution_count": 19,
     "metadata": {},
     "output_type": "execute_result"
    },
    {
     "data": {
      "image/png": "[encoded data removed]",
      "text/plain": [
       "<Figure size 432x288 with 1 Axes>"
      ]
     },
     "metadata": {},
     "output_type": "display_data"
    }
   ],
   "source": [
    "Winter=SeoulBikeDf[SeoulBikeDf[\"Seasons\"]==0].sum()\n",
    "Spring=SeoulBikeDf[SeoulBikeDf[\"Seasons\"]==1].sum()\n",
    "Summer=SeoulBikeDf[SeoulBikeDf[\"Seasons\"]==2].sum()\n",
    "Autumn=SeoulBikeDf[SeoulBikeDf[\"Seasons\"]==3].sum()\n",
    "\n",
    "BikeSeasons={\"Winter\":Winter[\"Rented Bike Count\"],\"Spring\":Spring[\"Rented Bike Count\"],\"Summer\":Summer[\"Rented Bike Count\"],\"Autumn\":Autumn[\"Rented Bike Count\"]}\n",
    "plt.pie(BikeSeasons.values(),labels=BikeSeasons.keys())"
   ]
  },
  {
   "cell_type": "code",
   "execution_count": 20,
   "id": "0af058ae",
   "metadata": {},
   "outputs": [
    {
     "data": {
      "text/plain": [
       "([<matplotlib.patches.Wedge at 0x1aaafdb04c0>,\n",
       "  <matplotlib.patches.Wedge at 0x1aaafdb0a00>,\n",
       "  <matplotlib.patches.Wedge at 0x1aaafdb0ee0>,\n",
       "  <matplotlib.patches.Wedge at 0x1aaafdbc400>,\n",
       "  <matplotlib.patches.Wedge at 0x1aaafdbc8e0>,\n",
       "  <matplotlib.patches.Wedge at 0x1aaafdbcdc0>,\n",
       "  <matplotlib.patches.Wedge at 0x1aaafdc72e0>,\n",
       "  <matplotlib.patches.Wedge at 0x1aaafdc77c0>,\n",
       "  <matplotlib.patches.Wedge at 0x1aaafdc7ca0>,\n",
       "  <matplotlib.patches.Wedge at 0x1aaafdd11c0>,\n",
       "  <matplotlib.patches.Wedge at 0x1aaafd9e2e0>,\n",
       "  <matplotlib.patches.Wedge at 0x1aaafdd1b50>,\n",
       "  <matplotlib.patches.Wedge at 0x1aaafddd070>,\n",
       "  <matplotlib.patches.Wedge at 0x1aaafddd550>,\n",
       "  <matplotlib.patches.Wedge at 0x1aaafddda30>,\n",
       "  <matplotlib.patches.Wedge at 0x1aaafdddf10>,\n",
       "  <matplotlib.patches.Wedge at 0x1aaafde6430>,\n",
       "  <matplotlib.patches.Wedge at 0x1aaafde6910>,\n",
       "  <matplotlib.patches.Wedge at 0x1aaafde6df0>,\n",
       "  <matplotlib.patches.Wedge at 0x1aaafdf0310>,\n",
       "  <matplotlib.patches.Wedge at 0x1aaafdf07f0>,\n",
       "  <matplotlib.patches.Wedge at 0x1aaafdf0cd0>,\n",
       "  <matplotlib.patches.Wedge at 0x1aaafdfc1f0>,\n",
       "  <matplotlib.patches.Wedge at 0x1aaafdfc6d0>],\n",
       " [Text(1.0944394325034628, 0.110464150662098, '0'),\n",
       "  Text(1.0570518938701328, 0.3043703232339939, '1'),\n",
       "  Text(1.0063747508917904, 0.4440831687505021, '2'),\n",
       "  Text(0.9603509637694463, 0.5364009940213533, '3'),\n",
       "  Text(0.9250278804230653, 0.5952507206547603, '4'),\n",
       "  Text(0.8938197498928461, 0.6411600850813237, '5'),\n",
       "  Text(0.8402473555223329, 0.7099185738785305, '6'),\n",
       "  Text(0.7113861278835218, 0.8390052306481108, '7'),\n",
       "  Text(0.4303769851135942, 1.012312032272922, '8'),\n",
       "  Text(0.10246652309384852, 1.0952171527350445, '9'),\n",
       "  Text(-0.1369029935679251, 1.0914474656858848, '10'),\n",
       "  Text(-0.3610890337930605, 1.0390450951110806, '11'),\n",
       "  Text(-0.5991686954770545, 0.9224949183384833, '12'),\n",
       "  Text(-0.8207148893022327, 0.7324118175436715, '13'),\n",
       "  Text(-0.9898162058294316, 0.47985818600647884, '14'),\n",
       "  Text(-1.0865752142489264, 0.17133097729219873, '15'),\n",
       "  Text(-1.0840422531410152, -0.18668795731099322, '16'),\n",
       "  Text(-0.9349245062816057, -0.5795827529819153, '17'),\n",
       "  Text(-0.5514617550593257, -0.951782502837118, '18'),\n",
       "  Text(-0.026277165685211906, -1.0996860963763941, '19'),\n",
       "  Text(0.4250469378285929, -1.0145615312254532, '20'),\n",
       "  Text(0.7790182217125842, -0.7766148403422145, '21'),\n",
       "  Text(1.0040401088753879, -0.44933668865284015, '22'),\n",
       "  Text(1.091461174436574, -0.13679365737319304, '23')])"
      ]
     },
     "execution_count": 20,
     "metadata": {},
     "output_type": "execute_result"
    },
    {
     "data": {
      "image/png": "[encoded data removed]",
      "text/plain": [
       "<Figure size 432x288 with 1 Axes>"
      ]
     },
     "metadata": {},
     "output_type": "display_data"
    }
   ],
   "source": [
    "BikeHours={}\n",
    "for k in range(24):\n",
    "    BikeHours[k]=SeoulBikeDf[SeoulBikeDf[\"Hour\"]==k].sum()[\"Rented Bike Count\"]\n",
    "plt.pie(BikeHours.values(),labels=BikeHours.keys())"
   ]
  },
  {
   "cell_type": "code",
   "execution_count": 21,
   "id": "7dcd6e11",
   "metadata": {},
   "outputs": [
    {
     "data": {
      "text/plain": [
       "<BarContainer object of 24 artists>"
      ]
     },
     "execution_count": 21,
     "metadata": {},
     "output_type": "execute_result"
    },
    {
     "data": {
      "image/png": "[encoded data removed]",
      "text/plain": [
       "<Figure size 432x288 with 1 Axes>"
      ]
     },
     "metadata": {
      "needs_background": "light"
     },
     "output_type": "display_data"
    }
   ],
   "source": [
    "plt.bar(BikeHours.keys(),BikeHours.values())"
   ]
  },
  {
   "cell_type": "code",
   "execution_count": null,
   "id": "5bcb9d01",
   "metadata": {},
   "outputs": [],
   "source": []
  },
  {
   "cell_type": "code",
   "execution_count": null,
   "id": "82977201",
   "metadata": {},
   "outputs": [],
   "source": []
  },
  {
   "cell_type": "code",
   "execution_count": null,
   "id": "8de8629b",
   "metadata": {},
   "outputs": [],
   "source": []
  },
  {
   "cell_type": "code",
   "execution_count": null,
   "id": "6b3c588c",
   "metadata": {},
   "outputs": [],
   "source": []
  },
  {
   "cell_type": "markdown",
   "id": "d8536203",
   "metadata": {},
   "source": [
    "## 5) Utils"
   ]
  },
  {
   "cell_type": "code",
   "execution_count": 22,
   "id": "3234c56f",
   "metadata": {},
   "outputs": [],
   "source": [
    "#Function which return the accuracy in (%) of prediction \n",
    "def ApproxAccuracy(predict,result):\n",
    "    predict = pd.Series(predict) \n",
    "    FusionDf = pd.DataFrame(result.subtract(predict, fill_value=0).abs())\n",
    "    FusionDfRestant = FusionDf.loc[(FusionDf[0] <= 5)]\n",
    "    return (len(FusionDfRestant) * 100) / len(FusionDf)"
   ]
  },
  {
   "cell_type": "code",
   "execution_count": 23,
   "id": "c582f6fc",
   "metadata": {},
   "outputs": [],
   "source": [
    "#Function for calculate the time for the scoring fitting and return a tuple\n",
    "def TimeOfModel(func,*args):\n",
    "    start_time = time.time()\n",
    "    return func(*args) , round(time.time() - start_time,3)"
   ]
  },
  {
   "cell_type": "code",
   "execution_count": 24,
   "id": "e7b64fae",
   "metadata": {},
   "outputs": [],
   "source": [
    "#For each model we display all accuracy and we stock only the best\n",
    "def BestModelWithoutTraining(namefunc, func):\n",
    "    bestModel = 1\n",
    "    bestModelTime = 0\n",
    "    bestModelExactValue = 0\n",
    "    bestModelApproxValue = 0\n",
    "    incModel = 1\n",
    "    \n",
    "    for x in listFeatures:\n",
    "        exactmodel = TimeOfModel(func, x, y, False)\n",
    "        print(namefunc + 'Model ' + str(incModel) + ' exactly : ' + str(exactmodel[0]) + '% in ' + str(exactmodel[1]) + 'secondes')\n",
    "        approxmodel = TimeOfModel(func, x, y, True)\n",
    "        print(namefunc + 'Model ' + str(incModel) + ' approx : ' + str(approxmodel[0]) + '% in ' + str(approxmodel[1]) + 'secondes')\n",
    "        if(bestModelExactValue < exactmodel[0]):\n",
    "                bestModel = incModel\n",
    "                bestModelTime = exactmodel[1]\n",
    "                bestModelExactValue = exactmodel[0]\n",
    "                bestModelApproxValue = approxmodel[0]\n",
    "        incModel = incModel + 1\n",
    "    print(\"Best exact\" + namefunc + \" model is : \" + str(bestModel) + \" with \" + str(bestModelExactValue) + '%')\n",
    "    return [namefunc, bestModel, bestModelTime, bestModelExactValue, bestModelApproxValue]"
   ]
  },
  {
   "cell_type": "code",
   "execution_count": 25,
   "id": "8a6b5ca6",
   "metadata": {},
   "outputs": [],
   "source": [
    "#Generate a dataframe or we stock the best model for each methods\n",
    "ResultDf = pd.DataFrame()\n",
    "def StockResultDf(tab):\n",
    "    global ResultDf\n",
    "    df2 = {'Model Name': tab[0], 'bestModel': tab[1], 'Time(s)': tab[2], 'Exact Value (%)' : tab[3], 'Approx Value(%)' : tab[4]}\n",
    "    ResultDf = ResultDf.append(df2,ignore_index=True)"
   ]
  },
  {
   "cell_type": "markdown",
   "id": "037059d2",
   "metadata": {},
   "source": [
    "## 6) Data-visualization"
   ]
  },
  {
   "cell_type": "code",
   "execution_count": 26,
   "id": "4645d48f",
   "metadata": {},
   "outputs": [],
   "source": [
    "#We separe the target of features\n",
    "#Target for first methods\n",
    "y = SeoulBikeDf1[\"Rented Bike Count\"]\n",
    "\n",
    "#Features\n",
    "x1 = SeoulBikeDf1.drop(['Rented Bike Count'], axis = 1)\n",
    "x2 = SeoulBikeDf2.drop(['Rented Bike Count'], axis = 1)\n",
    "x3 = SeoulBikeDf3.drop(['Rented Bike Count'], axis = 1)\n",
    "x4 = SeoulBikeDf4.drop(['Rented Bike Count'], axis = 1)\n",
    "#x5 = SeoulBikeDf5.drop(['Rented Bike Count'], axis = 1)\n",
    "\n",
    "#Create list for features\n",
    "listFeatures = [x1, x2, x3, x4]"
   ]
  },
  {
   "cell_type": "code",
   "execution_count": 27,
   "id": "a4a347c6",
   "metadata": {},
   "outputs": [],
   "source": [
    "def KNN(x,y,approx):\n",
    "    KnnModel = KNeighborsClassifier(n_neighbors=2)\n",
    "    KnnModel.fit(x,y)\n",
    "    if(approx):\n",
    "        return round(ApproxAccuracy(KnnModel.predict(x),y), 2)\n",
    "    else:\n",
    "        return round(KnnModel.score(x,y) * 100,2)"
   ]
  },
  {
   "cell_type": "code",
   "execution_count": 28,
   "id": "3aae8100",
   "metadata": {},
   "outputs": [
    {
     "name": "stdout",
     "output_type": "stream",
     "text": [
      "KNNModel 1 exactly : 51.1% in 0.316secondes\n",
      "KNNModel 1 approx : 52.57% in 0.247secondes\n",
      "KNNModel 2 exactly : 51.11% in 0.237secondes\n",
      "KNNModel 2 approx : 52.52% in 0.265secondes\n",
      "KNNModel 3 exactly : 51.23% in 0.225secondes\n",
      "KNNModel 3 approx : 52.55% in 0.24secondes\n",
      "KNNModel 4 exactly : 50.4% in 0.248secondes\n",
      "KNNModel 4 approx : 52.43% in 0.242secondes\n",
      "Best exactKNN model is : 3 with 51.23%\n"
     ]
    }
   ],
   "source": [
    "#KNN Model\n",
    "StockResultDf(BestModelWithoutTraining(\"KNN\", KNN))"
   ]
  },
  {
   "cell_type": "code",
   "execution_count": 29,
   "id": "20ef41e9",
   "metadata": {},
   "outputs": [],
   "source": [
    "#Linear Regression model\n",
    "def LinearRegressionModel(x,y,approx):\n",
    "    LinearModel = LinearRegression().fit(x, y)\n",
    "    if(approx):\n",
    "        return round(ApproxAccuracy(LinearModel.predict(x),y),2)\n",
    "    else:\n",
    "        return round(LinearModel.score(x,y) * 100,2)"
   ]
  },
  {
   "cell_type": "code",
   "execution_count": 30,
   "id": "4bfeaa74",
   "metadata": {},
   "outputs": [
    {
     "name": "stdout",
     "output_type": "stream",
     "text": [
      "Linear RegressionModel 1 exactly : 54.5% in 0.038secondes\n",
      "Linear RegressionModel 1 approx : 1.12% in 0.017secondes\n",
      "Linear RegressionModel 2 exactly : 54.48% in 0.013secondes\n",
      "Linear RegressionModel 2 approx : 1.07% in 0.011secondes\n",
      "Linear RegressionModel 3 exactly : 50.07% in 0.006secondes\n",
      "Linear RegressionModel 3 approx : 1.26% in 0.008secondes\n",
      "Linear RegressionModel 4 exactly : 54.48% in 0.011secondes\n",
      "Linear RegressionModel 4 approx : 1.07% in 0.01secondes\n",
      "Best exactLinear Regression model is : 1 with 54.5%\n"
     ]
    },
    {
     "data": {
      "text/html": [
       "<div>\n",
       "<style scoped>\n",
       "    .dataframe tbody tr th:only-of-type {\n",
       "        vertical-align: middle;\n",
       "    }\n",
       "\n",
       "    .dataframe tbody tr th {\n",
       "        vertical-align: top;\n",
       "    }\n",
       "\n",
       "    .dataframe thead th {\n",
       "        text-align: right;\n",
       "    }\n",
       "</style>\n",
       "<table border=\"1\" class=\"dataframe\">\n",
       "  <thead>\n",
       "    <tr style=\"text-align: right;\">\n",
       "      <th></th>\n",
       "      <th>Approx Value(%)</th>\n",
       "      <th>Exact Value (%)</th>\n",
       "      <th>Model Name</th>\n",
       "      <th>Time(s)</th>\n",
       "      <th>bestModel</th>\n",
       "    </tr>\n",
       "  </thead>\n",
       "  <tbody>\n",
       "    <tr>\n",
       "      <th>0</th>\n",
       "      <td>52.55</td>\n",
       "      <td>51.23</td>\n",
       "      <td>KNN</td>\n",
       "      <td>0.225</td>\n",
       "      <td>3.0</td>\n",
       "    </tr>\n",
       "    <tr>\n",
       "      <th>1</th>\n",
       "      <td>1.12</td>\n",
       "      <td>54.50</td>\n",
       "      <td>Linear Regression</td>\n",
       "      <td>0.038</td>\n",
       "      <td>1.0</td>\n",
       "    </tr>\n",
       "  </tbody>\n",
       "</table>\n",
       "</div>"
      ],
      "text/plain": [
       "   Approx Value(%)  Exact Value (%)         Model Name  Time(s)  bestModel\n",
       "0            52.55            51.23                KNN    0.225        3.0\n",
       "1             1.12            54.50  Linear Regression    0.038        1.0"
      ]
     },
     "execution_count": 30,
     "metadata": {},
     "output_type": "execute_result"
    }
   ],
   "source": [
    "StockResultDf(BestModelWithoutTraining(\"Linear Regression\", LinearRegressionModel))\n",
    "ResultDf"
   ]
  },
  {
   "cell_type": "code",
   "execution_count": 31,
   "id": "cc5f2393",
   "metadata": {},
   "outputs": [],
   "source": [
    "#FIND with Grid Search the better hyperparameters for model 1\n",
    "#Create train and test set\n",
    "x_train, x_test, y_train, y_test = train_test_split(x1, y, test_size=0.33)\n",
    "\n",
    "#Scale\n",
    "scaler = StandardScaler()\n",
    "scaler.fit(x_train)                 # Il ne faut fiter que sur les data d'entrainement\n",
    "x_train = scaler.transform(x_train, copy = False)\n",
    "x_test  = scaler.transform(x_test, copy = False)"
   ]
  },
  {
   "cell_type": "code",
   "execution_count": 32,
   "id": "6b332898",
   "metadata": {},
   "outputs": [
    {
     "name": "stdout",
     "output_type": "stream",
     "text": [
      "Best Accuracy : 26.85% with Gamma : SVR(gamma=0.05)\n"
     ]
    }
   ],
   "source": [
    "# Going further default parameters to grid search\n",
    "parameters = {'gamma':[0.01, 0.025, 0.05, 0.75, 0.1, 0.25, 0.5]}\n",
    "grid = GridSearchCV(svm.SVR(), parameters, n_jobs=-1, cv=5)\n",
    "grid.fit(x_train,y_train)\n",
    "print('Best Accuracy : ' + str(round(grid.best_score_ * 100,2)) + '% with Gamma : ' + str(grid.best_estimator_))"
   ]
  },
  {
   "cell_type": "code",
   "execution_count": 33,
   "id": "0083dbae",
   "metadata": {},
   "outputs": [
    {
     "name": "stdout",
     "output_type": "stream",
     "text": [
      "Best Accuracy : 61.82% with Gamma and C : SVR(C=10, gamma=0.07)\n"
     ]
    }
   ],
   "source": [
    "# Remake for find the better gamma and a good C\n",
    "parameters = {'gamma':[0.03, 0.04, 0.05, 0.06 ,0.07], 'C' : [0.5, 1, 2, 3, 5, 10]}\n",
    "grid = GridSearchCV(svm.SVR(), parameters, n_jobs=-1, cv=5)\n",
    "grid.fit(x_train,y_train)\n",
    "print('Best Accuracy : ' + str(round(grid.best_score_ * 100,2)) + '% with Gamma and C : ' + str(grid.best_estimator_))"
   ]
  },
  {
   "cell_type": "code",
   "execution_count": 34,
   "id": "81d4e252",
   "metadata": {},
   "outputs": [
    {
     "name": "stdout",
     "output_type": "stream",
     "text": [
      "Best Accuracy : 66.136% with Gamma , degree and C : SVR(C=20, degree=0.15, gamma=0.075)\n"
     ]
    }
   ],
   "source": [
    "# Now we Find the degree and affine C\n",
    "parameters = {'gamma' : [0.065,0.07,0.075], 'C' : [10, 15, 20], 'degree' : [0.15, 0.25, 0.5]}\n",
    "grid = GridSearchCV(svm.SVR(), parameters, n_jobs=-1, cv=5)\n",
    "grid.fit(x_train,y_train)\n",
    "print('Best Accuracy : ' + str(round(grid.best_score_ * 100,3)) + '% with Gamma , degree and C : ' + str(grid.best_estimator_))"
   ]
  },
  {
   "cell_type": "code",
   "execution_count": 35,
   "id": "c8e0beda",
   "metadata": {},
   "outputs": [
    {
     "name": "stdout",
     "output_type": "stream",
     "text": [
      "Best Accuracy : 72.098% with Gamma, C, degree : SVR(C=100, degree=0.1, gamma=0.077)\n"
     ]
    }
   ],
   "source": [
    "# Finish by search the kernel\n",
    "parameters = {'C' : [20, 50, 100], 'kernel' : ['rbf','poly','sigmoid','linear'], 'gamma' : [0.073, 0.075, 0.077], 'degree' : [0.10, 0.15, 0.20]}\n",
    "grid = GridSearchCV(svm.SVR(), parameters, n_jobs=-1, cv=5)\n",
    "grid.fit(x_train,y_train)\n",
    "print('Best Accuracy : ' + str(round(grid.best_score_ * 100,3)) + '% with Gamma, C, degree : ' + str(grid.best_estimator_))"
   ]
  },
  {
   "cell_type": "code",
   "execution_count": 36,
   "id": "4564c51f",
   "metadata": {},
   "outputs": [],
   "source": [
    "#TO DO faire passer cette fonction dans utils\n",
    "#Function which return the grid fitting\n",
    "def GetScoreHyperparametres(algo, x, y, hyperparametres):\n",
    "    grid = GridSearchCV(algo, hyperparametres, n_jobs=-1)\n",
    "    grid.fit(x, y)\n",
    "    ExactScore = round(grid.score(x,y) * 100,2)\n",
    "    \n",
    "    print('Best Accuracy for this model : ' + str(ExactScore) + '% with hyperparametres : ' + str(grid.best_estimator_))\n",
    "    return grid , ExactScore"
   ]
  },
  {
   "cell_type": "code",
   "execution_count": 37,
   "id": "112ce330",
   "metadata": {},
   "outputs": [],
   "source": [
    "#function for take the gridsearch on all model\n",
    "def BestModelWithTraining(namefunc, func, algo, hyperparametres = None):\n",
    "    bestModel = 1\n",
    "    bestModelTime = 0\n",
    "    bestModelExactValue = 0\n",
    "    bestModelApproxValue = 0\n",
    "    incModel = 1\n",
    "    for i in listFeatures:\n",
    "        print('Calcul du model ' + str(incModel) + ' en cours ...')\n",
    "        x_train, x_test, y_train, y_test = train_test_split(i, y, test_size=0.33)\n",
    "        \n",
    "        #Scale\n",
    "        scaler = StandardScaler()\n",
    "        scaler.fit(x_train)       \n",
    "        x_train = scaler.transform(x_train, copy = False)\n",
    "        x_test  = scaler.transform(x_test, copy = False)\n",
    "        \n",
    "        #Find Model\n",
    "        if(hyperparametres != None):\n",
    "            InfoModel , time = TimeOfModel(func, algo, x_train, y_train, hyperparametres)\n",
    "        else:\n",
    "            InfoModel , time = TimeOfModel(func, algo, x_train, y_train)\n",
    "            \n",
    "        approxModelAccuracy = round( ApproxAccuracy(InfoModel[0].predict(i),y), 2)\n",
    "        \n",
    "        #Save the best model\n",
    "        if(bestModelExactValue < InfoModel[1]):\n",
    "                bestModel = incModel\n",
    "                bestModelTime = time\n",
    "                bestModelExactValue = InfoModel[1]\n",
    "                bestModelApproxValue = approxModelAccuracy\n",
    "        incModel = incModel + 1\n",
    "    print(\"Best exact\" + namefunc + \" model is : \" + str(bestModel) + \" with \" + str(bestModelExactValue) + '%')\n",
    "    return [namefunc, bestModel, bestModelTime, bestModelExactValue, bestModelApproxValue]"
   ]
  },
  {
   "cell_type": "code",
   "execution_count": 38,
   "id": "6973bcc2",
   "metadata": {},
   "outputs": [
    {
     "name": "stdout",
     "output_type": "stream",
     "text": [
      "Calcul du model 1 en cours ...\n",
      "Best Accuracy for this model : 73.46% with hyperparametres : SVR(C=100, degree=0.1, gamma=0.077)\n",
      "Calcul du model 2 en cours ...\n",
      "Best Accuracy for this model : 73.16% with hyperparametres : SVR(C=100, degree=0.1, gamma=0.077)\n",
      "Calcul du model 3 en cours ...\n",
      "Best Accuracy for this model : 65.58% with hyperparametres : SVR(C=100, degree=0.1, gamma=0.077)\n",
      "Calcul du model 4 en cours ...\n",
      "Best Accuracy for this model : 71.12% with hyperparametres : SVR(C=100, degree=0.1, gamma=0.077)\n",
      "Best exactGridSearch model is : 1 with 73.46%\n"
     ]
    },
    {
     "data": {
      "text/html": [
       "<div>\n",
       "<style scoped>\n",
       "    .dataframe tbody tr th:only-of-type {\n",
       "        vertical-align: middle;\n",
       "    }\n",
       "\n",
       "    .dataframe tbody tr th {\n",
       "        vertical-align: top;\n",
       "    }\n",
       "\n",
       "    .dataframe thead th {\n",
       "        text-align: right;\n",
       "    }\n",
       "</style>\n",
       "<table border=\"1\" class=\"dataframe\">\n",
       "  <thead>\n",
       "    <tr style=\"text-align: right;\">\n",
       "      <th></th>\n",
       "      <th>Approx Value(%)</th>\n",
       "      <th>Exact Value (%)</th>\n",
       "      <th>Model Name</th>\n",
       "      <th>Time(s)</th>\n",
       "      <th>bestModel</th>\n",
       "    </tr>\n",
       "  </thead>\n",
       "  <tbody>\n",
       "    <tr>\n",
       "      <th>0</th>\n",
       "      <td>52.55</td>\n",
       "      <td>51.23</td>\n",
       "      <td>KNN</td>\n",
       "      <td>0.225</td>\n",
       "      <td>3.0</td>\n",
       "    </tr>\n",
       "    <tr>\n",
       "      <th>1</th>\n",
       "      <td>1.12</td>\n",
       "      <td>54.50</td>\n",
       "      <td>Linear Regression</td>\n",
       "      <td>0.038</td>\n",
       "      <td>1.0</td>\n",
       "    </tr>\n",
       "    <tr>\n",
       "      <th>2</th>\n",
       "      <td>1.28</td>\n",
       "      <td>73.46</td>\n",
       "      <td>GridSearch</td>\n",
       "      <td>182.693</td>\n",
       "      <td>1.0</td>\n",
       "    </tr>\n",
       "  </tbody>\n",
       "</table>\n",
       "</div>"
      ],
      "text/plain": [
       "   Approx Value(%)  Exact Value (%)         Model Name  Time(s)  bestModel\n",
       "0            52.55            51.23                KNN    0.225        3.0\n",
       "1             1.12            54.50  Linear Regression    0.038        1.0\n",
       "2             1.28            73.46         GridSearch  182.693        1.0"
      ]
     },
     "execution_count": 38,
     "metadata": {},
     "output_type": "execute_result"
    }
   ],
   "source": [
    "#We retake this for all models because is the same best hyperparameters\n",
    "params = {\n",
    "            'C' : [20, 50, 100], \n",
    "            'kernel' : ['rbf','poly','sigmoid','linear'], \n",
    "            'gamma' : [0.073, 0.075, 0.077], \n",
    "            'degree' : [0.10, 0.15, 0.20]\n",
    "}\n",
    "StockResultDf(BestModelWithTraining('GridSearch',GetScoreHyperparametres,svm.SVR(),params))\n",
    "ResultDf"
   ]
  },
  {
   "cell_type": "code",
   "execution_count": 39,
   "id": "a076c9a8",
   "metadata": {},
   "outputs": [
    {
     "name": "stdout",
     "output_type": "stream",
     "text": [
      "Calcul du model 1 en cours ...\n",
      "Best Accuracy for this model : 54.41% with hyperparametres : Lasso(alpha=0.5, max_iter=250, selection='random')\n",
      "Calcul du model 2 en cours ...\n",
      "Best Accuracy for this model : 54.66% with hyperparametres : Lasso(max_iter=500, selection='random')\n",
      "Calcul du model 3 en cours ...\n",
      "Best Accuracy for this model : 50.98% with hyperparametres : Lasso(alpha=0.05, selection='random')\n",
      "Calcul du model 4 en cours ...\n",
      "Best Accuracy for this model : 55.24% with hyperparametres : Lasso(alpha=0.25, max_iter=500, selection='random')\n",
      "Best exactLasso model is : 4 with 55.24%\n"
     ]
    },
    {
     "data": {
      "text/html": [
       "<div>\n",
       "<style scoped>\n",
       "    .dataframe tbody tr th:only-of-type {\n",
       "        vertical-align: middle;\n",
       "    }\n",
       "\n",
       "    .dataframe tbody tr th {\n",
       "        vertical-align: top;\n",
       "    }\n",
       "\n",
       "    .dataframe thead th {\n",
       "        text-align: right;\n",
       "    }\n",
       "</style>\n",
       "<table border=\"1\" class=\"dataframe\">\n",
       "  <thead>\n",
       "    <tr style=\"text-align: right;\">\n",
       "      <th></th>\n",
       "      <th>Approx Value(%)</th>\n",
       "      <th>Exact Value (%)</th>\n",
       "      <th>Model Name</th>\n",
       "      <th>Time(s)</th>\n",
       "      <th>bestModel</th>\n",
       "    </tr>\n",
       "  </thead>\n",
       "  <tbody>\n",
       "    <tr>\n",
       "      <th>0</th>\n",
       "      <td>52.55</td>\n",
       "      <td>51.23</td>\n",
       "      <td>KNN</td>\n",
       "      <td>0.225</td>\n",
       "      <td>3.0</td>\n",
       "    </tr>\n",
       "    <tr>\n",
       "      <th>1</th>\n",
       "      <td>1.12</td>\n",
       "      <td>54.50</td>\n",
       "      <td>Linear Regression</td>\n",
       "      <td>0.038</td>\n",
       "      <td>1.0</td>\n",
       "    </tr>\n",
       "    <tr>\n",
       "      <th>2</th>\n",
       "      <td>1.28</td>\n",
       "      <td>73.46</td>\n",
       "      <td>GridSearch</td>\n",
       "      <td>182.693</td>\n",
       "      <td>1.0</td>\n",
       "    </tr>\n",
       "    <tr>\n",
       "      <th>3</th>\n",
       "      <td>0.00</td>\n",
       "      <td>55.24</td>\n",
       "      <td>Lasso</td>\n",
       "      <td>1.079</td>\n",
       "      <td>4.0</td>\n",
       "    </tr>\n",
       "  </tbody>\n",
       "</table>\n",
       "</div>"
      ],
      "text/plain": [
       "   Approx Value(%)  Exact Value (%)         Model Name  Time(s)  bestModel\n",
       "0            52.55            51.23                KNN    0.225        3.0\n",
       "1             1.12            54.50  Linear Regression    0.038        1.0\n",
       "2             1.28            73.46         GridSearch  182.693        1.0\n",
       "3             0.00            55.24              Lasso    1.079        4.0"
      ]
     },
     "execution_count": 39,
     "metadata": {},
     "output_type": "execute_result"
    }
   ],
   "source": [
    "#Lasso\n",
    "params = {  \n",
    "            \"max_iter\"  : [ 250, 500, 1000, 1500 ] ,\n",
    "            \"alpha\"     : [ 0.005,0.01,0.02,0.025,0.05,0.1,0.25,0.5,0.8,1.0 ] , \n",
    "            \"selection\" : [\"random\", \"cyclic\"]\n",
    "}\n",
    "StockResultDf(BestModelWithTraining('Lasso', GetScoreHyperparametres, Lasso(), params))\n",
    "ResultDf"
   ]
  },
  {
   "cell_type": "code",
   "execution_count": null,
   "id": "a5feaf84",
   "metadata": {},
   "outputs": [],
   "source": [
    "#XGBoost\n",
    "params = {\n",
    "    \"max_depth\" : [1, 5, 10],\n",
    "    \"gamma\" : [0.077, 0.5, 0.75, 1, 1.5, 2],\n",
    "    \"base_score\" : [0.5, 0.75, 1],\n",
    "    \"n_estimators\" : [100, 200]\n",
    "}\n",
    "StockResultDf(BestModelWithTraining('XGBoost', GetScoreHyperparametres, XGBRegressor(), params))\n",
    "ResultDf"
   ]
  },
  {
   "cell_type": "code",
   "execution_count": null,
   "id": "720088e6",
   "metadata": {},
   "outputs": [
    {
     "name": "stdout",
     "output_type": "stream",
     "text": [
      "Calcul du model 1 en cours ...\n"
     ]
    }
   ],
   "source": [
    "#Extra trees\n",
    "params = {\n",
    "    \"n_estimators\"         : [100, 200],\n",
    "    \"min_samples_leaf\"     : [1, 3],\n",
    "    'max_depth'            : [50, 75, 100],\n",
    "    'min_samples_split'    : [2, 4],\n",
    "    'bootstrap'            : [True,False]\n",
    "}\n",
    "StockResultDf(BestModelWithTraining('ExtraTrees', GetScoreHyperparametres, ExtraTreesRegressor(), params))\n",
    "ResultDf"
   ]
  },
  {
   "cell_type": "code",
   "execution_count": null,
   "id": "b2ca10c9",
   "metadata": {},
   "outputs": [],
   "source": [
    "#Random Forest\n",
    "params = {\n",
    "    \"n_estimators\"         : [100, 200],\n",
    "    \"min_samples_leaf\"     : [1, 3],\n",
    "    'max_depth'            : [50, 75, 100],\n",
    "    'min_samples_split'    : [2, 4],\n",
    "    'bootstrap'            : [True,False]\n",
    "}\n",
    "StockResultDf(BestModelWithTraining('Random Forest', GetScoreHyperparametres, RandomForestRegressor(), params))\n",
    "ResultDf"
   ]
  },
  {
   "cell_type": "code",
   "execution_count": null,
   "id": "8c48809f",
   "metadata": {},
   "outputs": [],
   "source": [
    "# Reseaux de neurone\n"
   ]
  },
  {
   "cell_type": "code",
   "execution_count": 43,
   "id": "78a872c9",
   "metadata": {},
   "outputs": [],
   "source": [
    "# FONCTION POUR AFFICHER LES RESIDU ( voir tp5 scikit learn)\n",
    "# API\n",
    "#TO DO faire une petite fonction pour créer les call de save puis d'afficher le dataframe\n",
    "#TO DO : REGARDER SI IL RESTE DES TO DO\n",
    "#TO DO : passer les # en text et non en commentaire sauf si c'est pour une fonction\n",
    "#TO DO dans dfresult passer bestModel en int et non en float\n",
    "#Finir le read me\n",
    "#Faire le pdf\n",
    "#Check si on peut refaire des graphs"
   ]
  },
  {
   "cell_type": "code",
   "execution_count": null,
   "id": "9f018708",
   "metadata": {},
   "outputs": [],
   "source": []
  }
 ],
 "metadata": {
  "kernelspec": {
   "display_name": "Python 3 (ipykernel)",
   "language": "python",
   "name": "python3"
  },
  "language_info": {
   "codemirror_mode": {
    "name": "ipython",
    "version": 3
   },
   "file_extension": ".py",
   "mimetype": "text/x-python",
   "name": "python",
   "nbconvert_exporter": "python",
   "pygments_lexer": "ipython3",
   "version": "3.8.5"
  }
 },
 "nbformat": 4,
 "nbformat_minor": 5
}
